{
 "cells": [
  {
   "cell_type": "raw",
   "id": "698ff218",
   "metadata": {},
   "source": [
    "The Dataset contains information on policyholders having the attributes like policy tenure, age of the car, age of the car owner, the population density of the city, make and model of the car, power, engine type, etc, and the target variable indicating whether the policyholder files a claim in the next 6 months or not."
   ]
  },
  {
   "cell_type": "code",
   "execution_count": null,
   "id": "05ff94f7",
   "metadata": {},
   "outputs": [],
   "source": [
    "import pandas as pd\n",
    "import matplotlib.pyplot as plt\n",
    "import seaborn as sns\n",
    "import numpy as np\n",
    "import pandas as pd\n",
    "from sklearn.preprocessing import LabelEncoder\n",
    "le=LabelEncoder()\n",
    "import warnings\n",
    "warnings.filterwarnings(\"ignore\")"
   ]
  },
  {
   "cell_type": "code",
   "execution_count": null,
   "id": "12654b9e",
   "metadata": {
    "scrolled": true
   },
   "outputs": [],
   "source": [
    "df=pd.read_csv(\"train.csv\")\n",
    "df1=pd.read_csv(\"test.csv\")\n",
    "print(df.shape)\n",
    "print(df1.shape)\n",
    "df.head(10)"
   ]
  },
  {
   "cell_type": "code",
   "execution_count": null,
   "id": "75252e48",
   "metadata": {},
   "outputs": [],
   "source": [
    "df[\"policy_tenure\"].nunique()"
   ]
  },
  {
   "cell_type": "code",
   "execution_count": null,
   "id": "40575026",
   "metadata": {},
   "outputs": [],
   "source": [
    "pid=df1[\"policy_id\"]"
   ]
  },
  {
   "cell_type": "code",
   "execution_count": null,
   "id": "a70f30c9",
   "metadata": {},
   "outputs": [],
   "source": [
    "df=df.drop(columns=\"policy_id\")\n",
    "df1=df1.drop(columns=\"policy_id\")"
   ]
  },
  {
   "cell_type": "code",
   "execution_count": null,
   "id": "cbefdc20",
   "metadata": {},
   "outputs": [],
   "source": [
    "df[\"is_claim\"].value_counts()"
   ]
  },
  {
   "cell_type": "code",
   "execution_count": null,
   "id": "75c8063e",
   "metadata": {},
   "outputs": [],
   "source": [
    "# df[\"age_of_car\"].value_counts()\n",
    "df.dtypes"
   ]
  },
  {
   "cell_type": "code",
   "execution_count": null,
   "id": "cf589257",
   "metadata": {},
   "outputs": [],
   "source": [
    "df.isnull().sum()"
   ]
  },
  {
   "cell_type": "code",
   "execution_count": null,
   "id": "93c724ec",
   "metadata": {
    "scrolled": true
   },
   "outputs": [],
   "source": [
    "c=0\n",
    "num_cols=[]\n",
    "for i in df:\n",
    "    if df[i].dtype!=\"object\":\n",
    "        c+=1\n",
    "        num_cols.append(i)\n",
    "        print(i)\n",
    "print(c)"
   ]
  },
  {
   "cell_type": "code",
   "execution_count": null,
   "id": "28f4caf4",
   "metadata": {},
   "outputs": [],
   "source": [
    "for i in df.columns[df.dtypes==\"object\"]:\n",
    "    df[i]=le.fit_transform(df[i])"
   ]
  },
  {
   "cell_type": "code",
   "execution_count": null,
   "id": "2c9d5113",
   "metadata": {},
   "outputs": [],
   "source": [
    "x=df.iloc[:,:-1]\n",
    "y=df.iloc[:,-1]"
   ]
  },
  {
   "cell_type": "code",
   "execution_count": null,
   "id": "fe584eed",
   "metadata": {},
   "outputs": [],
   "source": []
  },
  {
   "cell_type": "code",
   "execution_count": null,
   "id": "47e03f1c",
   "metadata": {},
   "outputs": [],
   "source": [
    "from sklearn.model_selection import train_test_split,cross_val_score\n",
    "xt,xe,yt,ye=train_test_split(x,y,test_size=0.3,random_state=42)\n",
    "xt.shape,xe.shape,yt.shape,ye.shape"
   ]
  },
  {
   "cell_type": "code",
   "execution_count": null,
   "id": "1ea816b2",
   "metadata": {},
   "outputs": [],
   "source": [
    "from sklearn.metrics import confusion_matrix,classification_report,f1_score,accuracy_score,precision_score,recall_score"
   ]
  },
  {
   "cell_type": "markdown",
   "id": "f2926236",
   "metadata": {},
   "source": [
    "# Base Model"
   ]
  },
  {
   "cell_type": "markdown",
   "id": "29ae2dbe",
   "metadata": {},
   "source": [
    "# Train data"
   ]
  },
  {
   "cell_type": "code",
   "execution_count": null,
   "id": "d4799483",
   "metadata": {},
   "outputs": [],
   "source": [
    "def classify(model,x,y):\n",
    "    model.fit(xt,yt)\n",
    "    global p\n",
    "    p=model.predict(xe)\n",
    "    cf=confusion_matrix(ye,p)\n",
    "    print(\"Confusion_matrix\")\n",
    "    print(cf)\n",
    "    ac=cf.diagonal().sum()/cf.sum()*100\n",
    "    return ac"
   ]
  },
  {
   "cell_type": "markdown",
   "id": "edb98cda",
   "metadata": {},
   "source": [
    "# LogisticRegression"
   ]
  },
  {
   "cell_type": "code",
   "execution_count": null,
   "id": "3af7c936",
   "metadata": {},
   "outputs": [],
   "source": [
    "from sklearn.linear_model import LogisticRegression\n",
    "lg=LogisticRegression()\n",
    "lg_ac=classify(lg,x,y)\n",
    "print(\"Accuracy\")\n",
    "print(lg_ac)\n",
    "a=f1_score(ye,p)\n",
    "b=recall_score(ye,p)\n",
    "c=precision_score(ye,p)\n",
    "print(f\"F1-score - {a}\\nRecall - {b}\\nPrecision - {c}\")"
   ]
  },
  {
   "cell_type": "code",
   "execution_count": null,
   "id": "dd7c1168",
   "metadata": {},
   "outputs": [],
   "source": [
    "print(classification_report(ye,p))"
   ]
  },
  {
   "cell_type": "markdown",
   "id": "2c4208f3",
   "metadata": {},
   "source": [
    "# Decision Tree"
   ]
  },
  {
   "cell_type": "code",
   "execution_count": null,
   "id": "6271d479",
   "metadata": {},
   "outputs": [],
   "source": [
    "from sklearn.tree import DecisionTreeClassifier\n",
    "dt=DecisionTreeClassifier()\n",
    "dt_ac=classify(dt,x,y)\n",
    "print(\"Accuracy\")\n",
    "print(dt_ac)\n",
    "print(f1_score(ye,p))\n",
    "print(accuracy_score(ye,p))\n",
    "a1=f1_score(ye,p)\n",
    "b1=recall_score(ye,p)\n",
    "c1=precision_score(ye,p)\n",
    "print(f\"F1-score - {a1}\\nRecall - {b1}\\nPrecision - {c1}\")"
   ]
  },
  {
   "cell_type": "code",
   "execution_count": null,
   "id": "a46bd806",
   "metadata": {},
   "outputs": [],
   "source": [
    "print(classification_report(ye,p))"
   ]
  },
  {
   "cell_type": "markdown",
   "id": "3aa01554",
   "metadata": {},
   "source": [
    "# Random Forest"
   ]
  },
  {
   "cell_type": "code",
   "execution_count": null,
   "id": "e2fa9c6e",
   "metadata": {},
   "outputs": [],
   "source": [
    "from sklearn.ensemble import RandomForestClassifier\n",
    "rf=RandomForestClassifier()\n",
    "rf_ac=classify(rf,x,y)\n",
    "print(\"Accuracy\")\n",
    "print(rf_ac)\n",
    "print(f1_score(ye,p))\n",
    "print(accuracy_score(ye,p))\n",
    "a2=f1_score(ye,p)\n",
    "b2=recall_score(ye,p)\n",
    "c2=precision_score(ye,p)\n",
    "print(f\"F1-score - {a2}\\nRecall - {b2}\\nPrecision - {c2}\")"
   ]
  },
  {
   "cell_type": "code",
   "execution_count": null,
   "id": "8de3d6b0",
   "metadata": {},
   "outputs": [],
   "source": [
    "print(classification_report(ye,p))"
   ]
  },
  {
   "cell_type": "markdown",
   "id": "3b1bbc89",
   "metadata": {},
   "source": [
    "# KNN"
   ]
  },
  {
   "cell_type": "code",
   "execution_count": null,
   "id": "9c8e5b86",
   "metadata": {},
   "outputs": [],
   "source": [
    "from sklearn.neighbors import KNeighborsClassifier\n",
    "knn=KNeighborsClassifier()\n",
    "knn_ac=classify(knn,x,y)\n",
    "print(\"Accuracy\")\n",
    "print(knn_ac)\n",
    "print(f1_score(ye,p))\n",
    "print(accuracy_score(ye,p))\n",
    "a3=f1_score(ye,p)\n",
    "b3=recall_score(ye,p)\n",
    "c3=precision_score(ye,p)\n",
    "print(f\"F1-score - {a3}\\nRecall - {b3}\\nPrecision - {c3}\")"
   ]
  },
  {
   "cell_type": "code",
   "execution_count": null,
   "id": "b31aedab",
   "metadata": {},
   "outputs": [],
   "source": [
    "print(classification_report(ye,p))"
   ]
  },
  {
   "cell_type": "markdown",
   "id": "4e4e298c",
   "metadata": {},
   "source": [
    "# SVM"
   ]
  },
  {
   "cell_type": "code",
   "execution_count": null,
   "id": "46f4b679",
   "metadata": {},
   "outputs": [],
   "source": [
    "# from sklearn.svm import SVC\n",
    "# svm=SVC()\n",
    "# svm_ac=classify(svm,x,y)\n",
    "# print(\"Accuracy\")\n",
    "# print(svm_ac)\n",
    "# print(f1_score(ye,p))"
   ]
  },
  {
   "cell_type": "code",
   "execution_count": null,
   "id": "4e441388",
   "metadata": {},
   "outputs": [],
   "source": [
    "# print(classification_report(ye,p))"
   ]
  },
  {
   "cell_type": "markdown",
   "id": "60fc6447",
   "metadata": {},
   "source": [
    "# Navive Bayes"
   ]
  },
  {
   "cell_type": "code",
   "execution_count": null,
   "id": "3675532a",
   "metadata": {},
   "outputs": [],
   "source": [
    "from sklearn.naive_bayes import MultinomialNB\n",
    "nb=MultinomialNB()\n",
    "nb_ac=classify(nb,x,y)\n",
    "print(\"Accuracy\")\n",
    "print(nb_ac)\n",
    "print(f1_score(ye,p))\n",
    "print(accuracy_score(ye,p))\n",
    "a4=f1_score(ye,p)\n",
    "b4=recall_score(ye,p)\n",
    "c4=precision_score(ye,p)\n",
    "print(f\"F1-score - {a4}\\nRecall - {b4}\\nPrecision - {c4}\")"
   ]
  },
  {
   "cell_type": "code",
   "execution_count": null,
   "id": "49ee260c",
   "metadata": {},
   "outputs": [],
   "source": [
    "print(classification_report(ye,p))"
   ]
  },
  {
   "cell_type": "markdown",
   "id": "c14bd7ad",
   "metadata": {},
   "source": [
    "# XGB"
   ]
  },
  {
   "cell_type": "code",
   "execution_count": null,
   "id": "7d6582ab",
   "metadata": {},
   "outputs": [],
   "source": [
    "from xgboost import XGBClassifier\n",
    "xgb=XGBClassifier()\n",
    "xgb_ac=classify(xgb,x,y)\n",
    "print(\"Accuracy\")\n",
    "print(xgb_ac)\n",
    "print(f1_score(ye,p))\n",
    "print(accuracy_score(ye,p))\n",
    "a5=f1_score(ye,p)\n",
    "b5=recall_score(ye,p)\n",
    "c5=precision_score(ye,p)\n",
    "print(f\"F1-score - {a5}\\nRecall - {b5}\\nPrecision - {c5}\")"
   ]
  },
  {
   "cell_type": "code",
   "execution_count": null,
   "id": "88ad32c8",
   "metadata": {},
   "outputs": [],
   "source": [
    "print(classification_report(ye,p))"
   ]
  },
  {
   "cell_type": "code",
   "execution_count": null,
   "id": "6f00ad85",
   "metadata": {},
   "outputs": [],
   "source": [
    "algo=[\"logistic\",\"decision tree\",\"Random Forest\",\"KNN\",\"Naive Bayes\",\"XGB\"]\n",
    "accuracy=[lg_ac,dt_ac,rf_ac,knn_ac,nb_ac,xgb_ac]\n",
    "m=[a,a1,a2,a3,a4,a5]\n",
    "precision=[c,c1,c2,c3,c4,c5]\n",
    "recall=[b,b1,b2,b3,b4,b5]"
   ]
  },
  {
   "cell_type": "code",
   "execution_count": null,
   "id": "a3536699",
   "metadata": {},
   "outputs": [],
   "source": [
    "basic=pd.DataFrame({\"Algorithm\":algo,\"Accuracy\":accuracy,\"F1-score\":m,\"Precision\":precision,\"Recall\":recall})\n",
    "basic"
   ]
  },
  {
   "cell_type": "raw",
   "id": "7113f5a5",
   "metadata": {},
   "source": [
    "#---\n",
    "From the basic model dataset we can conclude that there is F1-score,Precision and recall are approximately zero\n",
    "#--"
   ]
  },
  {
   "cell_type": "markdown",
   "id": "d63172a8",
   "metadata": {},
   "source": [
    "# Class Imbalance Techniques\n",
    "# ----------------------------------------"
   ]
  },
  {
   "cell_type": "markdown",
   "id": "b1ad847e",
   "metadata": {},
   "source": [
    "# SMOTE Over Sampling"
   ]
  },
  {
   "cell_type": "code",
   "execution_count": null,
   "id": "d0248142",
   "metadata": {},
   "outputs": [],
   "source": [
    "yt.value_counts()"
   ]
  },
  {
   "cell_type": "code",
   "execution_count": null,
   "id": "a1be8558",
   "metadata": {},
   "outputs": [],
   "source": [
    "sns.countplot(y=yt,data=df)"
   ]
  },
  {
   "cell_type": "code",
   "execution_count": null,
   "id": "cd9365d5",
   "metadata": {},
   "outputs": [],
   "source": [
    "from imblearn.over_sampling import SMOTE\n",
    "over=SMOTE()\n",
    "x_smote,y_smote=over.fit_resample(xt,yt)"
   ]
  },
  {
   "cell_type": "code",
   "execution_count": null,
   "id": "782061f7",
   "metadata": {},
   "outputs": [],
   "source": [
    "y_smote.value_counts()"
   ]
  },
  {
   "cell_type": "code",
   "execution_count": null,
   "id": "d3a4c856",
   "metadata": {},
   "outputs": [],
   "source": [
    "sm_data=pd.concat([x_smote,y_smote],axis=1)\n",
    "sm_data.shape"
   ]
  },
  {
   "cell_type": "code",
   "execution_count": null,
   "id": "aee2b082",
   "metadata": {
    "scrolled": true
   },
   "outputs": [],
   "source": [
    "sns.countplot(y=y_smote,data=sm_data)"
   ]
  },
  {
   "cell_type": "markdown",
   "id": "6ff3360e",
   "metadata": {},
   "source": [
    "## outlier treatment"
   ]
  },
  {
   "cell_type": "code",
   "execution_count": null,
   "id": "0d95b828",
   "metadata": {
    "scrolled": true
   },
   "outputs": [],
   "source": [
    "fig,ax=plt.subplots(4,4,figsize=(20,25))\n",
    "index=0\n",
    "ax=ax.flatten()\n",
    "for i in sm_data:\n",
    "    if i in num_cols:\n",
    "        sns.distplot(sm_data[i],ax=ax[index])\n",
    "        index+=1\n",
    "plt.show()"
   ]
  },
  {
   "cell_type": "code",
   "execution_count": null,
   "id": "129d5330",
   "metadata": {
    "scrolled": true
   },
   "outputs": [],
   "source": [
    "fig,ax=plt.subplots(4,4,figsize=(20,25))\n",
    "index=0\n",
    "ax=ax.flatten()\n",
    "for i in df:\n",
    "    if i in num_cols:\n",
    "        sns.boxplot(df[i],ax=ax[index])\n",
    "        ax[index].set_title(i)\n",
    "        index+=1\n",
    "plt.show()"
   ]
  },
  {
   "cell_type": "code",
   "execution_count": null,
   "id": "ab7104e2",
   "metadata": {
    "scrolled": true
   },
   "outputs": [],
   "source": [
    "for i in sm_data:\n",
    "    if i in num_cols:\n",
    "        print(i)\n",
    "        print(sm_data[i].skew())\n",
    "        print()"
   ]
  },
  {
   "cell_type": "code",
   "execution_count": null,
   "id": "e097c09c",
   "metadata": {},
   "outputs": [],
   "source": [
    "num_col1=[\"policy_tenure\",\"age_of_car\",\"age_of_policyholder\",\"population_density\",\"turning_radius\",\"length\",\"width\",\"height\",\"gross_weight\"]\n",
    "num_col1"
   ]
  },
  {
   "cell_type": "code",
   "execution_count": null,
   "id": "d0244dba",
   "metadata": {},
   "outputs": [],
   "source": [
    "# make,airbags,cylinder,make,gear_box,displacement,ncap_rating,is_claim-categorical"
   ]
  },
  {
   "cell_type": "markdown",
   "id": "efb3b71c",
   "metadata": {},
   "source": [
    "## IQR"
   ]
  },
  {
   "cell_type": "code",
   "execution_count": null,
   "id": "de219c69",
   "metadata": {},
   "outputs": [],
   "source": [
    "for i in sm_data:\n",
    "    if i in [\"age_of_car\", \"population_density\",\"height\"]:\n",
    "        print(i)\n",
    "        print(\"Skew Before\",sm_data[i].skew())\n",
    "        IQR = sm_data[i].quantile(0.75) - sm_data[i].quantile(0.25)\n",
    "        print(\"IQR =\", IQR)\n",
    "        ub = sm_data[i].quantile(0.75) + 3 * IQR\n",
    "        lb = sm_data[i].quantile(0.25) - 3 * IQR\n",
    "        print(\"Upper boundary =\", ub)\n",
    "        print(\"Lower boundary =\", lb)\n",
    "\n",
    "        # Update values outside the boundaries\n",
    "        sm_data[i]=np.where(sm_data[i]>ub,ub,\n",
    "                        np.where(sm_data[i]<lb,lb,\n",
    "                                sm_data[i]))\n",
    "        print(\"Skew After\",sm_data[i].skew())\n",
    "        print()\n",
    "#         data.loc[data[i] > ub, i] = ub\n",
    "#         data.loc[data[i] < lb, i] = lb\n"
   ]
  },
  {
   "cell_type": "markdown",
   "id": "5413c8e2",
   "metadata": {},
   "source": [
    "## normal distribution"
   ]
  },
  {
   "cell_type": "code",
   "execution_count": null,
   "id": "7740f171",
   "metadata": {},
   "outputs": [],
   "source": [
    "norm=[\"policy_tenure\",\"age_of_policyholder\",\"turning_radius\",\"length\",\"width\",\"gross_weight\"]\n",
    "for i in sm_data:\n",
    "    if i in norm:\n",
    "        ub=sm_data[i].mean()+3*sm_data[i].std()\n",
    "        lb=sm_data[i].mean()-3*sm_data[i].std()\n",
    "        sm_data[i]=np.where(sm_data[i]>ub,ub,\n",
    "                            np.where(sm_data[i]<lb,lb,\n",
    "                                    sm_data[i]))"
   ]
  },
  {
   "cell_type": "code",
   "execution_count": null,
   "id": "2cc6c66c",
   "metadata": {},
   "outputs": [],
   "source": [
    "for i in num_col1:\n",
    "    print(i)\n",
    "    print(sm_data[i].skew())\n",
    "    print()"
   ]
  },
  {
   "cell_type": "code",
   "execution_count": null,
   "id": "ffecc3c3",
   "metadata": {},
   "outputs": [],
   "source": [
    "a=sm_data[[\"population_density\",\"height\"]]\n",
    "print(a.skew())\n",
    "b=np.sqrt(a)\n",
    "print(b.skew())"
   ]
  },
  {
   "cell_type": "code",
   "execution_count": null,
   "id": "81936fd1",
   "metadata": {},
   "outputs": [],
   "source": [
    "sm_data[\"population_density\"]=np.sqrt(sm_data[\"population_density\"])\n",
    "sm_data[\"height\"]=np.sqrt(sm_data[\"height\"])"
   ]
  },
  {
   "cell_type": "code",
   "execution_count": null,
   "id": "c103b46e",
   "metadata": {},
   "outputs": [],
   "source": [
    "for i in num_col1:\n",
    "    print(i)\n",
    "    print(sm_data[i].skew())\n",
    "    print()"
   ]
  },
  {
   "cell_type": "code",
   "execution_count": null,
   "id": "24dedc58",
   "metadata": {
    "scrolled": true
   },
   "outputs": [],
   "source": [
    "fig,ax=plt.subplots(3,3,figsize=(20,25))\n",
    "index=0\n",
    "ax=ax.flatten()\n",
    "for i in sm_data:\n",
    "    if i in num_col1:\n",
    "        sns.distplot(sm_data[i],ax=ax[index])\n",
    "        index+=1\n",
    "plt.show()"
   ]
  },
  {
   "cell_type": "code",
   "execution_count": null,
   "id": "b2183283",
   "metadata": {
    "scrolled": true
   },
   "outputs": [],
   "source": [
    "fig,ax=plt.subplots(3,3,figsize=(10,10))\n",
    "index=0\n",
    "ax=ax.flatten()\n",
    "for i in sm_data:\n",
    "    if i in num_col1:\n",
    "        sns.boxplot(sm_data[i],ax=ax[index])\n",
    "        ax[index].set_title(i)\n",
    "        index+=1\n",
    "plt.show()"
   ]
  },
  {
   "cell_type": "code",
   "execution_count": null,
   "id": "60db5102",
   "metadata": {},
   "outputs": [],
   "source": [
    "sm_data.shape"
   ]
  },
  {
   "cell_type": "code",
   "execution_count": null,
   "id": "5c7bd3d4",
   "metadata": {},
   "outputs": [],
   "source": [
    "x_smote=sm_data.iloc[:,:-1]\n",
    "y_smote=sm_data.iloc[:,-1]"
   ]
  },
  {
   "cell_type": "code",
   "execution_count": null,
   "id": "1ea80b1a",
   "metadata": {},
   "outputs": [],
   "source": [
    "xtr8,xte8,ytr8,yte8=train_test_split(x_smote,y_smote,test_size=0.2,random_state=100)\n",
    "xtr8.shape,xte8.shape,ytr8.shape,yte8.shape"
   ]
  },
  {
   "cell_type": "code",
   "execution_count": null,
   "id": "d96ca268",
   "metadata": {
    "scrolled": true
   },
   "outputs": [],
   "source": [
    "l=[lg,dt,rf,knn,nb,xgb]\n",
    "l1=[]\n",
    "f1=[]\n",
    "precision=[]\n",
    "recall=[]\n",
    "\n",
    "for i in l:\n",
    "    i.fit(x_smote,y_smote)\n",
    "    print(i.__class__.__name__)\n",
    "    pre=i.predict(xte8)\n",
    "    cff1=confusion_matrix(yte8,pre)\n",
    "    print(cff1)\n",
    "    acc1=cff1.diagonal().sum()/cff1.sum()*100\n",
    "    print(acc1)\n",
    "    precision.append(precision_score(yte8,pre))\n",
    "    recall.append(recall_score(yte8,pre))\n",
    "    print()\n",
    "    print(classification_report(yte8,pre))\n",
    "    l1.append(acc1)\n",
    "    f1score=f1_score(yte8,pre)\n",
    "    f1.append(f1score)"
   ]
  },
  {
   "cell_type": "code",
   "execution_count": null,
   "id": "5938e304",
   "metadata": {},
   "outputs": [],
   "source": [
    "algo=[\"logistic\",\"decision tree\",\"Random Forest\",\"KNN\",\"Naive Bayes\",\"XGB\"]\n",
    "basic=pd.DataFrame({\"Algorithm\":algo,\"Accuracy\":l1,\"F1-score\":f1,\"Precision\":precision,\"Recall\":recall})\n",
    "basic"
   ]
  },
  {
   "cell_type": "raw",
   "id": "31765048",
   "metadata": {},
   "source": [
    "# After applying smote over sampling \n",
    "XGB has good accuracy and F1-score with respective parameters"
   ]
  },
  {
   "cell_type": "markdown",
   "id": "33285ec3",
   "metadata": {},
   "source": [
    "# Imb learn over sampler"
   ]
  },
  {
   "cell_type": "code",
   "execution_count": null,
   "id": "46a5af7e",
   "metadata": {},
   "outputs": [],
   "source": [
    "# from imblearn.over_sampling import RandomOverSampler\n",
    "# r=RandomOverSampler()\n",
    "# x_imb,y_imb=over.fit_resample(xt,yt)\n",
    "# imb_data=pd.concat([x_imb,y_imb],axis=1)\n",
    "# imb_data.shape"
   ]
  },
  {
   "cell_type": "code",
   "execution_count": null,
   "id": "88ebcf83",
   "metadata": {},
   "outputs": [],
   "source": [
    "# yt.value_counts()"
   ]
  },
  {
   "cell_type": "code",
   "execution_count": null,
   "id": "f9bda4f3",
   "metadata": {},
   "outputs": [],
   "source": [
    "# y_imb.value_counts()"
   ]
  },
  {
   "cell_type": "markdown",
   "id": "52c31c99",
   "metadata": {},
   "source": [
    "## IQR"
   ]
  },
  {
   "cell_type": "code",
   "execution_count": null,
   "id": "2d66762c",
   "metadata": {},
   "outputs": [],
   "source": [
    "# for i in imb_data:\n",
    "#     if i in [\"age_of_car\", \"population_density\"]:\n",
    "#         print(i)\n",
    "#         print(\"Skew Before\",sm_data[i].skew())\n",
    "#         IQR = imb_data[i].quantile(0.75) - imb_data[i].quantile(0.25)\n",
    "#         print(\"IQR =\", IQR)\n",
    "#         ub = imb_data[i].quantile(0.75) + 3 * IQR\n",
    "#         lb = imb_data[i].quantile(0.25) - 3 * IQR\n",
    "#         print(\"Upper boundary =\", ub)\n",
    "#         print(\"Lower boundary =\", lb)\n",
    "\n",
    "#         # Update values outside the boundaries\n",
    "#         imb_data[i]=np.where(imb_data[i]>ub,ub,\n",
    "#                         np.where(imb_data[i]<lb,lb,\n",
    "#                                 imb_data[i]))\n",
    "#         print(\"Skew After\",imb_data[i].skew())"
   ]
  },
  {
   "cell_type": "markdown",
   "id": "39ff7620",
   "metadata": {},
   "source": [
    "## normal_distribution"
   ]
  },
  {
   "cell_type": "code",
   "execution_count": null,
   "id": "7f65ef2f",
   "metadata": {},
   "outputs": [],
   "source": [
    "# norm=[\"policy_tenure\",\"age_of_policyholder\",\"turning_radius\",\"length\",\"width\",\"gross_weight\"]\n",
    "# for i in imb_data:\n",
    "#     if i in norm:\n",
    "#         ub=imb_data[i].mean()+3*imb_data[i].std()\n",
    "#         lb=imb_data[i].mean()-3*imb_data[i].std()\n",
    "#         imb_data[i]=np.where(imb_data[i]>ub,ub,\n",
    "#                             np.where(imb_data[i]<lb,lb,\n",
    "#                                     imb_data[i]))"
   ]
  },
  {
   "cell_type": "code",
   "execution_count": null,
   "id": "d17ab020",
   "metadata": {},
   "outputs": [],
   "source": [
    "# for i in num_col1:\n",
    "#     print(i)\n",
    "#     print(imb_data[i].skew())\n",
    "#     print()"
   ]
  },
  {
   "cell_type": "code",
   "execution_count": null,
   "id": "22c58b58",
   "metadata": {},
   "outputs": [],
   "source": [
    "# a=imb_data[[\"population_density\",\"height\"]]\n",
    "# print(a.skew())\n",
    "# b=np.sqrt(a)\n",
    "# print(b.skew())\n",
    "# imb_data[\"population_density\"]=np.sqrt(imb_data[\"population_density\"])\n",
    "# imb_data[\"height\"]=np.sqrt(imb_data[\"height\"])"
   ]
  },
  {
   "cell_type": "code",
   "execution_count": null,
   "id": "b0700328",
   "metadata": {},
   "outputs": [],
   "source": [
    "# for i in num_col1:\n",
    "#     print(i)\n",
    "#     print(imb_data[i].skew())\n",
    "#     print()"
   ]
  },
  {
   "cell_type": "code",
   "execution_count": null,
   "id": "c18f7acc",
   "metadata": {},
   "outputs": [],
   "source": [
    "# x_imb=imb_data.iloc[:,:-1]\n",
    "# y_imb=imb_data.iloc[:,-1]"
   ]
  },
  {
   "cell_type": "code",
   "execution_count": null,
   "id": "584f11ed",
   "metadata": {},
   "outputs": [],
   "source": [
    "# xtr7,xte7,ytr7,yte7=train_test_split(x_imb,y_imb,test_size=0.2,random_state=100)\n",
    "# xtr7.shape,xte7.shape,ytr7.shape,yte7.shape"
   ]
  },
  {
   "cell_type": "code",
   "execution_count": null,
   "id": "eebb4eaa",
   "metadata": {
    "scrolled": true
   },
   "outputs": [],
   "source": [
    "# l=[lg,dt,rf,knn,nb,xgb]\n",
    "# l1=[]\n",
    "# f1=[]\n",
    "# precision=[]\n",
    "# recall=[]\n",
    "# for i in l:\n",
    "#     i.fit(x_imb,y_imb)\n",
    "#     print(i.__class__.__name__)\n",
    "#     pre=i.predict(xte7)\n",
    "#     cff1=confusion_matrix(yte7,pre)\n",
    "#     print(cff1)\n",
    "#     acc1=cff1.diagonal().sum()/cff1.sum()*100\n",
    "#     print(acc1)\n",
    "#     precision.append(precision_score(yte7,pre))\n",
    "#     recall.append(recall_score(yte7,pre))\n",
    "#     print()\n",
    "#     print(classification_report(yte7,pre))\n",
    "#     l1.append(acc1)\n",
    "#     f1score=f1_score(yte7,pre)\n",
    "#     f1.append(f1score)"
   ]
  },
  {
   "cell_type": "code",
   "execution_count": null,
   "id": "85607fb4",
   "metadata": {},
   "outputs": [],
   "source": [
    "# algo=[\"logistic\",\"decision tree\",\"Random Forest\",\"KNN\",\"Naive Bayes\",\"XGB\"]\n",
    "# basic=pd.DataFrame({\"Algorithm\":algo,\"Accuracy\":l1,\"F1-score\":f1,\"Precision\":precision,\"Recall\":recall})\n",
    "# basic"
   ]
  },
  {
   "cell_type": "raw",
   "id": "63dd23fa",
   "metadata": {},
   "source": [
    "Imb learn also has similar accuracy with related to xgb and other parameters"
   ]
  },
  {
   "cell_type": "markdown",
   "id": "5aa8c129",
   "metadata": {},
   "source": [
    "# IMb learn under"
   ]
  },
  {
   "cell_type": "code",
   "execution_count": null,
   "id": "a019c3b0",
   "metadata": {},
   "outputs": [],
   "source": [
    "# from imblearn.under_sampling import RandomUnderSampler\n",
    "# u=RandomUnderSampler()\n",
    "# x_imb_u,y_imb_u=u.fit_resample(xt,yt)"
   ]
  },
  {
   "cell_type": "code",
   "execution_count": null,
   "id": "c094ccb0",
   "metadata": {},
   "outputs": [],
   "source": [
    "# xtr6,xte6,ytr6,yte6=train_test_split(x_imb_u,y_imb_u,test_size=0.2,random_state=100)\n",
    "# xtr6.shape,xte6.shape,ytr6.shape,yte6.shape"
   ]
  },
  {
   "cell_type": "code",
   "execution_count": null,
   "id": "0a35a22f",
   "metadata": {
    "scrolled": true
   },
   "outputs": [],
   "source": [
    "# l=[lg,dt,rf,knn,nb,xgb]\n",
    "# l1=[]\n",
    "# f1=[]\n",
    "# precision=[]\n",
    "# recall=[]\n",
    "# for i in l:\n",
    "#     i.fit(x_imb_u,y_imb_u)\n",
    "#     print(i.__class__.__name__)\n",
    "#     pre=i.predict(xte6)\n",
    "#     cff1=confusion_matrix(yte6,pre)\n",
    "#     print(cff1)\n",
    "#     acc1=cff1.diagonal().sum()/cff1.sum()*100\n",
    "#     print(acc1)\n",
    "#     precision.append(precision_score(yte6,pre))\n",
    "#     recall.append(recall_score(yte6,pre))\n",
    "#     print()\n",
    "#     print(classification_report(yte6,pre))\n",
    "#     l1.append(acc1)\n",
    "#     f1score=f1_score(yte6,pre)\n",
    "#     f1.append(f1score)"
   ]
  },
  {
   "cell_type": "code",
   "execution_count": null,
   "id": "7fabc152",
   "metadata": {},
   "outputs": [],
   "source": [
    "# algo=[\"logistic\",\"decision tree\",\"Random Forest\",\"KNN\",\"Naive Bayes\",\"XGB\"]\n",
    "# basic=pd.DataFrame({\"Algorithm\":algo,\"Accuracy\":l1,\"F1-score\":f1,\"Precison\":precision,\"Recall\":recall})\n",
    "# basic"
   ]
  },
  {
   "cell_type": "markdown",
   "id": "7819e691",
   "metadata": {},
   "source": [
    "# Feature_selection"
   ]
  },
  {
   "cell_type": "markdown",
   "id": "585f8ac1",
   "metadata": {},
   "source": [
    "# Recursive Feature elimination"
   ]
  },
  {
   "cell_type": "code",
   "execution_count": null,
   "id": "f15281e9",
   "metadata": {},
   "outputs": [],
   "source": [
    "from sklearn.feature_selection import RFE\n",
    "from sklearn.tree import DecisionTreeClassifier\n",
    "dtree=DecisionTreeClassifier()"
   ]
  },
  {
   "cell_type": "code",
   "execution_count": null,
   "id": "9c158704",
   "metadata": {},
   "outputs": [],
   "source": [
    "rfe = RFE(estimator=dtree, n_features_to_select=5)"
   ]
  },
  {
   "cell_type": "code",
   "execution_count": null,
   "id": "a03c3475",
   "metadata": {},
   "outputs": [],
   "source": [
    "rfe.fit(sm_data.iloc[:,:-1],sm_data.iloc[:,-1])"
   ]
  },
  {
   "cell_type": "code",
   "execution_count": null,
   "id": "a7a5e370",
   "metadata": {},
   "outputs": [],
   "source": [
    "rfe.support_"
   ]
  },
  {
   "cell_type": "code",
   "execution_count": null,
   "id": "396bb10e",
   "metadata": {},
   "outputs": [],
   "source": [
    "rf1=pd.DataFrame({\"feature\":list(rfe.support_),\"col\":list(sm_data.iloc[:,:-1].columns)})\n",
    "rf1"
   ]
  },
  {
   "cell_type": "code",
   "execution_count": null,
   "id": "1c5417b0",
   "metadata": {},
   "outputs": [],
   "source": [
    "m=rf1[rf1[\"feature\"]==True]\n",
    "print(m[\"col\"].to_string(index=False))"
   ]
  },
  {
   "cell_type": "code",
   "execution_count": null,
   "id": "311f3096",
   "metadata": {},
   "outputs": [],
   "source": [
    "# data2=sm_data[m[\"col\"]]\n",
    "# data2=pd.concat([data2,sm_data[\"is_claim\"]],axis=1)\n",
    "# data2.head()\n",
    "data2=sm_data[[\"policy_tenure\",\"age_of_car\",\"age_of_policyholder\",\"population_density\",\"model\",\"is_claim\"]]"
   ]
  },
  {
   "cell_type": "code",
   "execution_count": null,
   "id": "5a5effd1",
   "metadata": {},
   "outputs": [],
   "source": [
    "data2.to_csv(\"final.csv\")"
   ]
  },
  {
   "cell_type": "code",
   "execution_count": null,
   "id": "e9cb1526",
   "metadata": {},
   "outputs": [],
   "source": [
    "data2.shape"
   ]
  },
  {
   "cell_type": "code",
   "execution_count": null,
   "id": "eec07b0c",
   "metadata": {},
   "outputs": [],
   "source": [
    "xg=data2.iloc[:,:-1]\n",
    "yg=data2.iloc[:,-1]"
   ]
  },
  {
   "cell_type": "code",
   "execution_count": null,
   "id": "ff101f99",
   "metadata": {},
   "outputs": [],
   "source": []
  },
  {
   "cell_type": "code",
   "execution_count": null,
   "id": "6d79df9c",
   "metadata": {},
   "outputs": [],
   "source": [
    "xt4,xte4,yt4,yte4=train_test_split(xg,yg,test_size=0.2)\n",
    "xt4.shape,xte4.shape,yt4.shape,yte4.shape"
   ]
  },
  {
   "cell_type": "code",
   "execution_count": null,
   "id": "353eb234",
   "metadata": {
    "scrolled": true
   },
   "outputs": [],
   "source": [
    "l=[lg,dt,rf,knn,nb,xgb]\n",
    "l1=[]\n",
    "f1=[]\n",
    "precision=[]\n",
    "recall=[]\n",
    "for i in l:\n",
    "    i.fit(xt4,yt4)\n",
    "    print(i.__class__.__name__)\n",
    "    pre=i.predict(xte4)\n",
    "    cff1=confusion_matrix(yte4,pre)\n",
    "    print(cff1)\n",
    "    acc1=cff1.diagonal().sum()/cff1.sum()*100\n",
    "    print(acc1)\n",
    "    precision.append(precision_score(yte4,pre))\n",
    "    recall.append(recall_score(yte4,pre))\n",
    "    print()\n",
    "    print(classification_report(yte4,pre))\n",
    "    l1.append(acc1)\n",
    "    f1score=f1_score(yte4,pre)\n",
    "    f1.append(f1score)"
   ]
  },
  {
   "cell_type": "code",
   "execution_count": null,
   "id": "3ba65877",
   "metadata": {},
   "outputs": [],
   "source": [
    "algo=[\"logistic\",\"decision tree\",\"Random Forest\",\"KNN\",\"Naive Bayes\",\"XGB\"]\n",
    "basic=pd.DataFrame({\"Algorithm\":algo,\"Accuracy\":l1,\"F1-score\":f1,\"Precision\":precision,\"Recall\":recall})\n",
    "basic"
   ]
  },
  {
   "cell_type": "code",
   "execution_count": null,
   "id": "e6864eff",
   "metadata": {},
   "outputs": [],
   "source": [
    "pre=xgb.predict(xte4)"
   ]
  },
  {
   "cell_type": "code",
   "execution_count": null,
   "id": "d8f34b5d",
   "metadata": {},
   "outputs": [],
   "source": [
    "cm=confusion_matrix(yte4,pre)\n",
    "sns.heatmap(cm,annot=True,fmt=\"d\",cmap=\"Spectral\")\n",
    "plt.title(\"Confusion Matrix\")\n",
    "plt.show()"
   ]
  },
  {
   "cell_type": "code",
   "execution_count": null,
   "id": "984f3c47",
   "metadata": {},
   "outputs": [],
   "source": [
    "# Hence we conclude as XGB as better model"
   ]
  },
  {
   "cell_type": "markdown",
   "id": "dc13da11",
   "metadata": {},
   "source": [
    "# test_data"
   ]
  },
  {
   "cell_type": "code",
   "execution_count": null,
   "id": "47773273",
   "metadata": {},
   "outputs": [],
   "source": [
    "for i in df1.columns[df1.dtypes==\"object\"]:\n",
    "    df1[i]=le.fit_transform(df1[i])"
   ]
  },
  {
   "cell_type": "code",
   "execution_count": null,
   "id": "ae4b8822",
   "metadata": {},
   "outputs": [],
   "source": [
    "tes1=df1[[\"policy_tenure\",\"age_of_car\",\"age_of_policyholder\",\"population_density\",\"model\"]]"
   ]
  },
  {
   "cell_type": "code",
   "execution_count": null,
   "id": "98b71cec",
   "metadata": {},
   "outputs": [],
   "source": [
    "tes1"
   ]
  },
  {
   "cell_type": "code",
   "execution_count": null,
   "id": "a4c388f3",
   "metadata": {},
   "outputs": [],
   "source": [
    "# MODEL FOR XGB\n",
    "p1=dt.predict(tes1)\n",
    "res=pd.DataFrame({\"policy_id\":pid,\"is_claim\":p1})\n",
    "res.to_csv(r\"C:\\Users\\asdad\\OneDrive\\Desktop\\newdemo\\Car_policy\\basics-files\\result.csv\",index=False)"
   ]
  },
  {
   "cell_type": "code",
   "execution_count": null,
   "id": "25c6d2f4",
   "metadata": {},
   "outputs": [],
   "source": []
  },
  {
   "cell_type": "markdown",
   "id": "b759f9f7",
   "metadata": {},
   "source": [
    "# AUC-ROC CURVE"
   ]
  },
  {
   "cell_type": "code",
   "execution_count": null,
   "id": "bb82d6e2",
   "metadata": {},
   "outputs": [],
   "source": [
    "from sklearn.metrics import roc_auc_score\n",
    "from sklearn.metrics import roc_curve"
   ]
  },
  {
   "cell_type": "code",
   "execution_count": null,
   "id": "08dc4939",
   "metadata": {},
   "outputs": [],
   "source": [
    "# rf.fit(xt4,yt4)\n",
    "pre=xgb.predict(xte4)"
   ]
  },
  {
   "cell_type": "code",
   "execution_count": null,
   "id": "f714535b",
   "metadata": {},
   "outputs": [],
   "source": [
    "m=xgb.predict_proba(xte4)\n",
    "m"
   ]
  },
  {
   "cell_type": "code",
   "execution_count": null,
   "id": "494de1f6",
   "metadata": {},
   "outputs": [],
   "source": [
    "roc=roc_auc_score(yte4,pre)\n",
    "roc"
   ]
  },
  {
   "cell_type": "code",
   "execution_count": null,
   "id": "15e448e9",
   "metadata": {},
   "outputs": [],
   "source": [
    "# fpr,tpr,threshold=roc_curve(yte4,rf.predict_proba(xte4)[:,1])\n",
    "fpr,tpr,threshold=roc_curve(yte4,m[:,1])\n",
    "# fpr,tpr,threshold=roc_curve(yte4,pre)"
   ]
  },
  {
   "cell_type": "code",
   "execution_count": null,
   "id": "529611d2",
   "metadata": {},
   "outputs": [],
   "source": [
    "plt.plot(fpr,tpr)\n",
    "plt.title(\"AUC-ROC curve\")\n",
    "plt.xlabel(\"fpr\")\n",
    "plt.ylabel(\"tpr\")\n",
    "plt.show()"
   ]
  },
  {
   "cell_type": "code",
   "execution_count": null,
   "id": "a94cd5d9",
   "metadata": {},
   "outputs": [],
   "source": [
    "import joblib\n",
    "joblib.dump(xgb,'xgb.pkl')"
   ]
  },
  {
   "cell_type": "code",
   "execution_count": null,
   "id": "c224328e",
   "metadata": {},
   "outputs": [],
   "source": [
    "model = joblib.load('xgb.pkl')"
   ]
  },
  {
   "cell_type": "code",
   "execution_count": null,
   "id": "940adc15",
   "metadata": {},
   "outputs": [],
   "source": [
    "data2.head()"
   ]
  },
  {
   "cell_type": "code",
   "execution_count": null,
   "id": "cee84ce9",
   "metadata": {},
   "outputs": [],
   "source": [
    "model.predict([[0.97512,0.07,0.38,93.77,7]])"
   ]
  },
  {
   "cell_type": "code",
   "execution_count": null,
   "id": "7ed05518",
   "metadata": {},
   "outputs": [],
   "source": [
    "model.predict([[0.509869,0.10,0.23,270.979704,5]])"
   ]
  },
  {
   "cell_type": "code",
   "execution_count": null,
   "id": "21cf789a",
   "metadata": {},
   "outputs": [],
   "source": []
  },
  {
   "cell_type": "code",
   "execution_count": null,
   "id": "ed41726a",
   "metadata": {},
   "outputs": [],
   "source": []
  },
  {
   "cell_type": "markdown",
   "id": "35bf5f93",
   "metadata": {},
   "source": [
    "#  Chi square test"
   ]
  },
  {
   "cell_type": "code",
   "execution_count": null,
   "id": "6c8fbaff",
   "metadata": {},
   "outputs": [],
   "source": [
    "from sklearn.feature_selection import VarianceThreshold\n",
    "from sklearn.feature_selection import SelectFromModel\n",
    "from sklearn.feature_selection import SelectKBest\n",
    "from sklearn.feature_selection import chi2"
   ]
  },
  {
   "cell_type": "code",
   "execution_count": null,
   "id": "f6df2707",
   "metadata": {},
   "outputs": [],
   "source": [
    "chiTest=SelectKBest(score_func=chi2,k=\"all\")"
   ]
  },
  {
   "cell_type": "code",
   "execution_count": null,
   "id": "97247f00",
   "metadata": {},
   "outputs": [],
   "source": [
    "c=chiTest.fit(sm_data.iloc[:,:-1],sm_data.iloc[:,-1])"
   ]
  },
  {
   "cell_type": "code",
   "execution_count": null,
   "id": "e3575a37",
   "metadata": {},
   "outputs": [],
   "source": [
    "chi=pd.DataFrame({\"feature\":list(c.scores_),\"col\":list(sm_data.iloc[:,:-1].columns)})\n",
    "chi"
   ]
  },
  {
   "cell_type": "code",
   "execution_count": null,
   "id": "2c68bdf1",
   "metadata": {},
   "outputs": [],
   "source": [
    "m1=chi[chi[\"feature\"]>=14]\n",
    "print(m1[\"col\"].to_string(index=False))\n",
    "len(m1[\"col\"])"
   ]
  },
  {
   "cell_type": "code",
   "execution_count": null,
   "id": "125fe5bc",
   "metadata": {},
   "outputs": [],
   "source": [
    "m1 "
   ]
  },
  {
   "cell_type": "code",
   "execution_count": null,
   "id": "ef0fd3a8",
   "metadata": {},
   "outputs": [],
   "source": [
    "m1=sm_data[[\"policy_tenure\",\"age_of_car\",\"area_cluster\",\"population_density\",\"model\",\"max_torque\",\"max_power\",\"is_adjustable_steering\",\"displacement\",\"steering_type\",\"length\",\"width\",\"gross_weight\",\"is_front_fog_lights\",\"is_claim\"]]"
   ]
  },
  {
   "cell_type": "code",
   "execution_count": null,
   "id": "8a2fc19d",
   "metadata": {},
   "outputs": [],
   "source": [
    "# data3=sm_data[m1[\"col\"]]\n",
    "# data3=pd.concat([data3,sm_data[\"is_claim\"]],axis=1)\n",
    "data3=m1"
   ]
  },
  {
   "cell_type": "code",
   "execution_count": null,
   "id": "18fb70a8",
   "metadata": {},
   "outputs": [],
   "source": [
    "data3.head()"
   ]
  },
  {
   "cell_type": "code",
   "execution_count": null,
   "id": "021b0992",
   "metadata": {},
   "outputs": [],
   "source": [
    "data3[\"is_claim\"].value_counts()"
   ]
  },
  {
   "cell_type": "code",
   "execution_count": null,
   "id": "3a14774c",
   "metadata": {},
   "outputs": [],
   "source": [
    "data3.shape"
   ]
  },
  {
   "cell_type": "code",
   "execution_count": null,
   "id": "9e936e41",
   "metadata": {},
   "outputs": [],
   "source": [
    "c1=data3.iloc[:,:-1]\n",
    "c2=data3.iloc[:,-1]"
   ]
  },
  {
   "cell_type": "code",
   "execution_count": null,
   "id": "f6d98031",
   "metadata": {},
   "outputs": [],
   "source": [
    "xt5,xte5,yt5,yte5=train_test_split(c1,c2,test_size=0.2)\n",
    "xt5.shape,xte5.shape,yt5.shape,yte5.shape"
   ]
  },
  {
   "cell_type": "code",
   "execution_count": null,
   "id": "1e3dd242",
   "metadata": {
    "scrolled": true
   },
   "outputs": [],
   "source": [
    "l=[lg,dt,rf,knn,nb,xgb]\n",
    "l1=[]\n",
    "f1=[]\n",
    "precision=[]\n",
    "recall=[]\n",
    "for i in l:\n",
    "    i.fit(xt5,yt5)\n",
    "    print(i.__class__.__name__)\n",
    "    pre=i.predict(xte5)\n",
    "    cff1=confusion_matrix(yte5,pre)\n",
    "    print(cff1)\n",
    "    acc1=cff1.diagonal().sum()/cff1.sum()*100\n",
    "    print(acc1)\n",
    "    precision.append(precision_score(yte5,pre))\n",
    "    recall.append(recall_score(yte5,pre))\n",
    "    print()\n",
    "    print(classification_report(yte5,pre))\n",
    "    l1.append(acc1)\n",
    "    f1score=f1_score(yte5,pre)\n",
    "    f1.append(f1score)"
   ]
  },
  {
   "cell_type": "code",
   "execution_count": null,
   "id": "114f86ee",
   "metadata": {},
   "outputs": [],
   "source": [
    "algo=[\"logistic\",\"decision tree\",\"Random Forest\",\"KNN\",\"Naive Bayes\",\"XGB\"]\n",
    "basic=pd.DataFrame({\"Algorithm\":algo,\"Accuracy\":l1,\"F1-score\":f1,\"Precision\":precision,\"Recall\":recall})\n",
    "basic"
   ]
  },
  {
   "cell_type": "code",
   "execution_count": null,
   "id": "633a2f6e",
   "metadata": {},
   "outputs": [],
   "source": [
    "pre=xgb.predict(xte5)"
   ]
  },
  {
   "cell_type": "code",
   "execution_count": null,
   "id": "8d0ffb93",
   "metadata": {},
   "outputs": [],
   "source": [
    "cm=confusion_matrix(yte5,pre)\n",
    "sns.heatmap(cm,annot=True,fmt=\"d\",cmap=\"Spectral\")\n",
    "plt.title(\"Confusion Matrix\")\n",
    "plt.show()"
   ]
  },
  {
   "cell_type": "markdown",
   "id": "3f65c18d",
   "metadata": {},
   "source": [
    "# AUC ROC CURVE"
   ]
  },
  {
   "cell_type": "code",
   "execution_count": null,
   "id": "d6308781",
   "metadata": {},
   "outputs": [],
   "source": [
    "from sklearn.metrics import roc_auc_score\n",
    "from sklearn.metrics import roc_curve\n",
    "from sklearn.metrics import precision_recall_curve\n",
    "from sklearn.metrics import f1_score"
   ]
  },
  {
   "cell_type": "code",
   "execution_count": null,
   "id": "c505a251",
   "metadata": {},
   "outputs": [],
   "source": [
    "# rf.fit(xt4,yt4)\n",
    "pre=xgb.predict(xte5)"
   ]
  },
  {
   "cell_type": "code",
   "execution_count": null,
   "id": "f6c4074e",
   "metadata": {},
   "outputs": [],
   "source": [
    "roc=roc_auc_score(yte5,pre)\n",
    "roc"
   ]
  },
  {
   "cell_type": "code",
   "execution_count": null,
   "id": "b8d48a74",
   "metadata": {},
   "outputs": [],
   "source": [
    "m=xgb.predict_proba(xte5)\n",
    "m"
   ]
  },
  {
   "cell_type": "code",
   "execution_count": null,
   "id": "df1ac894",
   "metadata": {},
   "outputs": [],
   "source": [
    "fpr,tpr,threshold=roc_curve(yte5,xgb.predict_proba(xte5)[:,1])\n",
    "# fpr,tpr,threshold=roc_curve(yte4,m[:,1])\n",
    "# fpr,tpr,threshold=roc_curve(yte4,pre)"
   ]
  },
  {
   "cell_type": "code",
   "execution_count": null,
   "id": "37a0b7f7",
   "metadata": {},
   "outputs": [],
   "source": [
    "plt.plot(fpr,tpr)\n",
    "plt.title(\"AUC-ROC curve\")\n",
    "plt.xlabel(\"fpr\")\n",
    "plt.ylabel(\"tpr\")\n",
    "plt.show()"
   ]
  },
  {
   "cell_type": "code",
   "execution_count": null,
   "id": "870f7348",
   "metadata": {},
   "outputs": [],
   "source": [
    "import joblib\n",
    "joblib.dump(xgb,'xgb2.pkl')"
   ]
  },
  {
   "cell_type": "code",
   "execution_count": null,
   "id": "e92825ca",
   "metadata": {},
   "outputs": [],
   "source": [
    "data3.to_csv(\"feature.csv\")"
   ]
  },
  {
   "cell_type": "code",
   "execution_count": null,
   "id": "ad6e7b3c",
   "metadata": {},
   "outputs": [],
   "source": [
    "data3.head()"
   ]
  },
  {
   "cell_type": "code",
   "execution_count": null,
   "id": "cf175cf9",
   "metadata": {},
   "outputs": [],
   "source": [
    "model = joblib.load('xgb2.pkl')"
   ]
  },
  {
   "cell_type": "code",
   "execution_count": null,
   "id": "b9ff6928",
   "metadata": {},
   "outputs": [],
   "source": [
    "model.predict([[0.50,0.10,1,270.979704,5,4,0,1,1493,2,4300,1790,1720,1]])"
   ]
  },
  {
   "cell_type": "code",
   "execution_count": null,
   "id": "32e030c3",
   "metadata": {},
   "outputs": [],
   "source": [
    "# Conckusuin:xgb accuracy decreases after feature selection and and added to \n",
    "# deployment of flask"
   ]
  },
  {
   "cell_type": "markdown",
   "id": "b55d0bdb",
   "metadata": {
    "scrolled": true
   },
   "source": [
    "# Deploy XGB MODEL INTO FLASK"
   ]
  },
  {
   "cell_type": "code",
   "execution_count": null,
   "id": "5d6171e9",
   "metadata": {},
   "outputs": [],
   "source": [
    "from flask import Flask,render_template,request\n",
    "import numpy as np\n",
    "import pickle\n",
    "import joblib\n",
    "app=Flask(__name__)\n",
    "model = joblib.load('xgb2.pkl')\n",
    "\n",
    "@app.route('/')\n",
    "def home():\n",
    "    return render_template('index1.html')\n",
    "\n",
    "\n",
    "@app.route('/predict',methods=['POST'])\n",
    "def predict():\n",
    "    \n",
    "    features = [float(x) for x in request.form.values()]\n",
    "    final_features = [np.array(features)]\n",
    "    print(final_features)\n",
    "    prediction = model.predict(final_features)\n",
    "\n",
    "    output = prediction[0]\n",
    "    if output==0:\n",
    "        output=\"You are eligible for car policy\"\n",
    "    else:\n",
    "        output=\"Your are not eligible for car ploicy \"\n",
    "    return render_template('index1.html',res=output)\n",
    "if __name__ == \"__main__\":\n",
    "    app.run(host=\"localhost\", port=5000)"
   ]
  },
  {
   "cell_type": "code",
   "execution_count": null,
   "id": "103f93a7",
   "metadata": {},
   "outputs": [],
   "source": []
  },
  {
   "cell_type": "code",
   "execution_count": null,
   "id": "864a7b77",
   "metadata": {},
   "outputs": [],
   "source": []
  },
  {
   "cell_type": "code",
   "execution_count": null,
   "id": "784e9d0c",
   "metadata": {},
   "outputs": [],
   "source": []
  },
  {
   "cell_type": "code",
   "execution_count": null,
   "id": "bb1d2d78",
   "metadata": {},
   "outputs": [],
   "source": [
    "# data[\"is_claim\"].value_counts()"
   ]
  },
  {
   "cell_type": "code",
   "execution_count": null,
   "id": "456122b1",
   "metadata": {},
   "outputs": [],
   "source": []
  },
  {
   "cell_type": "code",
   "execution_count": null,
   "id": "e5c59f02",
   "metadata": {},
   "outputs": [],
   "source": [
    "# import pandas as pd\n",
    "\n",
    "# # Assuming df is your DataFrame\n",
    "# # Check the current value counts\n",
    "# value_counts = df[\"is_claim\"].value_counts()\n",
    "# print(\"Current Value Counts:\")\n",
    "# print(value_counts)\n",
    "\n",
    "# # Increase the count of '1' by a specified amount (e.g., by 100)\n",
    "# increase_amount = 100\n",
    "# rows_to_increase = 1  # The value '1'\n",
    "\n",
    "# # Identify the rows with '1' and increase their count\n",
    "# rows_with_one = df[df[\"is_claim\"] == rows_to_increase].sample(increase_amount, replace=True)\n",
    "# df = pd.concat([df, rows_with_one], axis=0)\n",
    "\n",
    "# # Check the updated value counts\n",
    "# updated_value_counts = df[\"is_claim\"].value_counts()\n",
    "# print(\"\\nUpdated Value Counts:\")\n",
    "# print(updated_value_counts)\n"
   ]
  },
  {
   "cell_type": "code",
   "execution_count": null,
   "id": "0f5decd8",
   "metadata": {},
   "outputs": [],
   "source": [
    "# data[\"is_claim\"].value_counts()"
   ]
  },
  {
   "cell_type": "code",
   "execution_count": null,
   "id": "8e8eef43",
   "metadata": {},
   "outputs": [],
   "source": [
    "# amount = 54844\n",
    "# percentage = 0.10 # 10 percent as a decimal\n",
    "\n",
    "# result = amount * percentage\n",
    "\n",
    "# print(int(result))\n",
    "# a=10\n",
    "# b=7.5\n",
    "# w=(b/a)\n",
    "# w#2 percentage of 10(part/whole)*100"
   ]
  },
  {
   "cell_type": "code",
   "execution_count": null,
   "id": "edec6dff",
   "metadata": {},
   "outputs": [],
   "source": [
    "# # using xgb classifier\n",
    "# xn=data.iloc[:,:-1]\n",
    "# yn=data.iloc[:,-1]"
   ]
  },
  {
   "cell_type": "code",
   "execution_count": null,
   "id": "c5124464",
   "metadata": {},
   "outputs": [],
   "source": [
    "# xt2,xte2,yt2,yte2=train_test_split(xo,yo,test_size=0.2)\n",
    "# xt2.shape,xte2.shape,yt2.shape,yte2.shape"
   ]
  },
  {
   "cell_type": "code",
   "execution_count": null,
   "id": "a40a791b",
   "metadata": {},
   "outputs": [],
   "source": [
    "# xgb.fit(xt2,yt2)\n",
    "# xgb_p=xgb.predict(xte2)\n",
    "# xgb_cf=confusion_matrix(yte2,xgb_p)\n",
    "# print(xgb_cf)\n",
    "# xgb_ac=xgb_cf.diagonal().sum()/xgb_cf.sum()*100\n",
    "# print(xgb_ac)\n",
    "# print(accuracy_score(yte2,xgb_p))"
   ]
  },
  {
   "cell_type": "code",
   "execution_count": null,
   "id": "d77c6cd0",
   "metadata": {},
   "outputs": [],
   "source": [
    "# dt_ac=dt_c.diagonal().sum()/dt_c.sum()*100\n",
    "# dt_ac"
   ]
  },
  {
   "cell_type": "code",
   "execution_count": null,
   "id": "207e6f66",
   "metadata": {},
   "outputs": [],
   "source": []
  },
  {
   "cell_type": "code",
   "execution_count": null,
   "id": "64fcacb4",
   "metadata": {},
   "outputs": [],
   "source": []
  }
 ],
 "metadata": {
  "kernelspec": {
   "display_name": "Python 3 (ipykernel)",
   "language": "python",
   "name": "python3"
  },
  "language_info": {
   "codemirror_mode": {
    "name": "ipython",
    "version": 3
   },
   "file_extension": ".py",
   "mimetype": "text/x-python",
   "name": "python",
   "nbconvert_exporter": "python",
   "pygments_lexer": "ipython3",
   "version": "3.11.7"
  }
 },
 "nbformat": 4,
 "nbformat_minor": 5
}
